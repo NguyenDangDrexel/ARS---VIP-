{
 "cells": [
  {
   "cell_type": "markdown",
   "metadata": {},
   "source": [
    "# 20240408\n"
   ]
  },
  {
   "cell_type": "code",
   "execution_count": 26,
   "metadata": {},
   "outputs": [],
   "source": [
    "import sys\n",
    "import pandas as pd \n",
    "path = r\"C:\\Drexel\\Drexel\\2023\\Courses\\Summer 2024 - SGN\\VIP program - balloon project\\Weather-Balloon-Drexel\\NEBP_project\"\n",
    "sys.path.append(path)  \n",
    "# Assuming the DataFrame is already loaded and time is converted to seconds as before\n",
    "path = r\"C:\\Drexel\\Drexel\\2023\\Courses\\Summer 2024 - SGN\\VIP program - balloon project\\Weather-Balloon-Drexel\\NEBP_project\\Data\\20240408.xlsx\"\n",
    "path = r\"C:\\Drexel\\Drexel\\2023\\Courses\\Summer 2024 - SGN\\VIP program - balloon project\\Weather-Balloon-Drexel\\NEBP_project\\Data\\20231014.xlsx\"\n",
    "df = pd.read_excel(path,skiprows = 23)"
   ]
  },
  {
   "cell_type": "code",
   "execution_count": 27,
   "metadata": {},
   "outputs": [
    {
     "data": {
      "text/plain": [
       "Index(['date [y-m-d GMT]', ' time [h:m:s GMT]', ' milliseconds',\n",
       "       ' seconds since midnight [GMT]', ' elapsed minutes',\n",
       "       ' altitude (from iMet PTU) [km]', ' iMet pressure [mb]',\n",
       "       ' iMet air temperature (corrected) [deg C]',\n",
       "       ' iMet air temperature (raw) [deg C]', ' iMet humidity [RH %]',\n",
       "       ' iMet frostpoint [deg C]', ' iMet internal temperature [deg C]',\n",
       "       ' iMet battery voltage [V]', ' iMet theta [K]',\n",
       "       ' iMet temperature (of pressure sensor) [deg C]',\n",
       "       ' iMet temperature (of humidity sensor) [deg C]',\n",
       "       ' iMet ascent rate [m/s]', ' iMet water vapor mixing ratio [ppmv]',\n",
       "       ' iMet total column water [mm]', ' O3 partial pressure [mPa]',\n",
       "       ' O3 mixing ratio [ppmv]', ' total column ozone [DU]',\n",
       "       ' total column ozone with extrapolation [DU]', ' O3 cell current [uA]',\n",
       "       ' O3 pump temperature [deg C]', ' O3 pump current [mA]',\n",
       "       ' O3 battery voltage [V]', ' GPS latitude', ' GPS longitude',\n",
       "       ' GPS altitude [km]', ' GPS num satellites', ' GPS pressure [mb]',\n",
       "       ' GPS wind speed [m/s]', ' GPS wind direction [deg]',\n",
       "       ' GPS ascent rate [m/s]', ' GPS(X) east velocity [m/s]',\n",
       "       ' GPS(X) north velocity [m/s]', ' GPS(X) up velocity [m/s]',\n",
       "       ' GPS time [h:m:s GMT]', ' GPS heading from launch [deg]',\n",
       "       ' GPS elevation angle from launch [deg]',\n",
       "       ' GPS distance from launch [km]', ' predicted landing latitude',\n",
       "       ' predicted landing longitude', ' predicted time to landing [min]'],\n",
       "      dtype='object')"
      ]
     },
     "execution_count": 27,
     "metadata": {},
     "output_type": "execute_result"
    }
   ],
   "source": [
    "df.columns\n"
   ]
  },
  {
   "cell_type": "code",
   "execution_count": 28,
   "metadata": {},
   "outputs": [],
   "source": [
    "\n",
    "\n",
    "# Convert time to seconds (same as before)\n",
    "initial = pd.to_timedelta(df[' time [h:m:s GMT]'].iloc[0])\n",
    "time_converted_lx = [(pd.to_timedelta(df[' time [h:m:s GMT]'].iloc[i]) - initial).total_seconds() for i in range(len(df[' time [h:m:s GMT]']))]\n",
    "df[' time [h:m:s GMT]'] = time_converted_lx\n",
    "\n"
   ]
  },
  {
   "cell_type": "code",
   "execution_count": 29,
   "metadata": {},
   "outputs": [
    {
     "name": "stdout",
     "output_type": "stream",
     "text": [
      "<class 'pandas.core.frame.DataFrame'>\n",
      "RangeIndex: 10745 entries, 0 to 10744\n",
      "Data columns (total 45 columns):\n",
      " #   Column                                          Non-Null Count  Dtype         \n",
      "---  ------                                          --------------  -----         \n",
      " 0   date [y-m-d GMT]                                10745 non-null  datetime64[ns]\n",
      " 1    time [h:m:s GMT]                               10745 non-null  float64       \n",
      " 2    milliseconds                                   10745 non-null  int64         \n",
      " 3    seconds since midnight [GMT]                   10745 non-null  float64       \n",
      " 4    elapsed minutes                                10745 non-null  float64       \n",
      " 5    altitude (from iMet PTU) [km]                  10745 non-null  float64       \n",
      " 6    iMet pressure [mb]                             10745 non-null  float64       \n",
      " 7    iMet air temperature (corrected) [deg C]       10745 non-null  float64       \n",
      " 8    iMet air temperature (raw) [deg C]             10745 non-null  float64       \n",
      " 9    iMet humidity [RH %]                           10745 non-null  float64       \n",
      " 10   iMet frostpoint [deg C]                        10745 non-null  float64       \n",
      " 11   iMet internal temperature [deg C]              10745 non-null  float64       \n",
      " 12   iMet battery voltage [V]                       10745 non-null  float64       \n",
      " 13   iMet theta [K]                                 10745 non-null  float64       \n",
      " 14   iMet temperature (of pressure sensor) [deg C]  10745 non-null  float64       \n",
      " 15   iMet temperature (of humidity sensor) [deg C]  10745 non-null  float64       \n",
      " 16   iMet ascent rate [m/s]                         10745 non-null  float64       \n",
      " 17   iMet water vapor mixing ratio [ppmv]           10745 non-null  float64       \n",
      " 18   iMet total column water [mm]                   10745 non-null  float64       \n",
      " 19   O3 partial pressure [mPa]                      10745 non-null  float64       \n",
      " 20   O3 mixing ratio [ppmv]                         10745 non-null  float64       \n",
      " 21   total column ozone [DU]                        10745 non-null  float64       \n",
      " 22   total column ozone with extrapolation [DU]     10745 non-null  float64       \n",
      " 23   O3 cell current [uA]                           10745 non-null  float64       \n",
      " 24   O3 pump temperature [deg C]                    10745 non-null  float64       \n",
      " 25   O3 pump current [mA]                           10745 non-null  int64         \n",
      " 26   O3 battery voltage [V]                         10745 non-null  float64       \n",
      " 27   GPS latitude                                   10745 non-null  float64       \n",
      " 28   GPS longitude                                  10745 non-null  float64       \n",
      " 29   GPS altitude [km]                              10745 non-null  float64       \n",
      " 30   GPS num satellites                             10745 non-null  int64         \n",
      " 31   GPS pressure [mb]                              10745 non-null  float64       \n",
      " 32   GPS wind speed [m/s]                           10745 non-null  float64       \n",
      " 33   GPS wind direction [deg]                       10745 non-null  float64       \n",
      " 34   GPS ascent rate [m/s]                          10745 non-null  float64       \n",
      " 35   GPS(X) east velocity [m/s]                     10745 non-null  int64         \n",
      " 36   GPS(X) north velocity [m/s]                    10745 non-null  int64         \n",
      " 37   GPS(X) up velocity [m/s]                       10745 non-null  int64         \n",
      " 38   GPS time [h:m:s GMT]                           10745 non-null  object        \n",
      " 39   GPS heading from launch [deg]                  10745 non-null  float64       \n",
      " 40   GPS elevation angle from launch [deg]          10745 non-null  float64       \n",
      " 41   GPS distance from launch [km]                  10745 non-null  float64       \n",
      " 42   predicted landing latitude                     10745 non-null  int64         \n",
      " 43   predicted landing longitude                    10745 non-null  int64         \n",
      " 44   predicted time to landing [min]                10745 non-null  int64         \n",
      "dtypes: datetime64[ns](1), float64(34), int64(9), object(1)\n",
      "memory usage: 3.7+ MB\n"
     ]
    }
   ],
   "source": [
    "\n",
    "df.info ()\n"
   ]
  },
  {
   "cell_type": "markdown",
   "metadata": {},
   "source": [
    "## Check for null-value in time columns \n"
   ]
  },
  {
   "cell_type": "code",
   "execution_count": 32,
   "metadata": {},
   "outputs": [
    {
     "data": {
      "text/plain": [
       "0            0.0\n",
       "1            1.0\n",
       "2            2.0\n",
       "3            3.0\n",
       "4            4.0\n",
       "          ...   \n",
       "10740    11552.0\n",
       "10741    11556.0\n",
       "10742    11558.0\n",
       "10743    11560.0\n",
       "10744    11566.0\n",
       "Name:  time [h:m:s GMT], Length: 10745, dtype: float64"
      ]
     },
     "execution_count": 32,
     "metadata": {},
     "output_type": "execute_result"
    }
   ],
   "source": [
    "df[' time [h:m:s GMT]'] "
   ]
  },
  {
   "cell_type": "markdown",
   "metadata": {},
   "source": [
    "non-uniform time series \n"
   ]
  }
 ],
 "metadata": {
  "kernelspec": {
   "display_name": "Python 3",
   "language": "python",
   "name": "python3"
  },
  "language_info": {
   "codemirror_mode": {
    "name": "ipython",
    "version": 3
   },
   "file_extension": ".py",
   "mimetype": "text/x-python",
   "name": "python",
   "nbconvert_exporter": "python",
   "pygments_lexer": "ipython3",
   "version": "3.12.1"
  }
 },
 "nbformat": 4,
 "nbformat_minor": 2
}
